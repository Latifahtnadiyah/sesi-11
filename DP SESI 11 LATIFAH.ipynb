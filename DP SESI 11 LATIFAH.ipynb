{
 "cells": [
  {
   "cell_type": "code",
   "execution_count": 6,
   "id": "b19dfbc4",
   "metadata": {},
   "outputs": [
    {
     "name": "stdout",
     "output_type": "stream",
     "text": [
      "welcome in Phyton Language\n",
      "welcome in Phyton Language\n"
     ]
    }
   ],
   "source": [
    "def helloPhyton():\n",
    "    print('welcome in Phyton Language')\n",
    "helloPhyton()   \n",
    "helloPhyton()"
   ]
  },
  {
   "cell_type": "code",
   "execution_count": 8,
   "id": "613dd38f",
   "metadata": {},
   "outputs": [
    {
     "name": "stdout",
     "output_type": "stream",
     "text": [
      "Latifah Tasliyatunadiyah\n"
     ]
    }
   ],
   "source": [
    "def fullName(firstname,lastname):\n",
    "    print(f\"{firstname} {lastname}\")\n",
    "    \n",
    "fullName(\"Latifah\",\"Tasliyatunadiyah\")    "
   ]
  },
  {
   "cell_type": "code",
   "execution_count": 20,
   "id": "ac264da5",
   "metadata": {},
   "outputs": [
    {
     "name": "stdout",
     "output_type": "stream",
     "text": [
      "HJ.Latifah Tasliyatunadiyah,S.Kom\n"
     ]
    }
   ],
   "source": [
    "def getTitleBelakang(title ='S.Kom'):\n",
    "    return title\n",
    "def getTitleDepan(title ='HJ'):\n",
    "    return title\n",
    "def fullNameWithTitle(firstname,lastname):\n",
    "    title_depan = getTitleDepan()\n",
    "    title_belakang = getTitleBelakang()\n",
    "    print(f\"{title_depan}.{firstname} {lastname},{title_belakang}\")\n",
    "    \n",
    "fullNameWithTitle(\"Latifah\",\"Tasliyatunadiyah\")    "
   ]
  },
  {
   "cell_type": "code",
   "execution_count": 31,
   "id": "150d09ed",
   "metadata": {},
   "outputs": [
    {
     "data": {
      "text/plain": [
       "100"
      ]
     },
     "execution_count": 31,
     "metadata": {},
     "output_type": "execute_result"
    }
   ],
   "source": [
    "def maxValue(val_1, val_2, val_3):\n",
    "    if val_1 >= val_2 and val_1 >= val_3:\n",
    "        return val_1\n",
    "    if val_2 >= val_1 and val_2 >= val_3:\n",
    "        return val_2\n",
    "    if val_3 >= val_1 and val_3 >= val_2:\n",
    "        return val_3\n",
    "maxValue(100,100,5)       "
   ]
  },
  {
   "cell_type": "code",
   "execution_count": 40,
   "id": "10fc1743",
   "metadata": {},
   "outputs": [
    {
     "name": "stdout",
     "output_type": "stream",
     "text": [
      "100\n",
      "19.625\n",
      "80.375\n"
     ]
    }
   ],
   "source": [
    "def countCircleArea(diameter,phi=3.14):\n",
    "    r = diameter/2\n",
    "    return phi * r * r\n",
    "def countSquareArea (sisi):\n",
    "    return sisi * sisi\n",
    "\n",
    "sisi =10\n",
    "diameter = 5\n",
    "result = countSquareArea(sisi)- countCircleArea(diameter)\n",
    "print(countSquareArea(sisi))\n",
    "print(countCircleArea(diameter))\n",
    "print(result)\n"
   ]
  },
  {
   "cell_type": "code",
   "execution_count": 43,
   "id": "1a9affac",
   "metadata": {},
   "outputs": [
    {
     "name": "stdout",
     "output_type": "stream",
     "text": [
      "Suhu sekarang di Sukabumi : 25 Celcius\n",
      "Suhu sekarang di Sukabumi : 100 Fahrenheit\n",
      "Suhu sekarang di Surabaya : 24 Fahrenheit\n"
     ]
    }
   ],
   "source": [
    "def info(suhu, daerah='Sukabumi', satuan='Celcius'):\n",
    "    print(f\"Suhu sekarang di {daerah} : {suhu} {satuan}\")\n",
    "info (25)\n",
    "info(100,satuan='Fahrenheit')\n",
    "info (24, 'Surabaya', 'Fahrenheit')"
   ]
  },
  {
   "cell_type": "code",
   "execution_count": 50,
   "id": "f5b78d52",
   "metadata": {},
   "outputs": [
    {
     "name": "stdout",
     "output_type": "stream",
     "text": [
      "330\n",
      "100\n"
     ]
    }
   ],
   "source": [
    "nilai_tugas=[100,80,70,80]\n",
    "\n",
    "def totalNilai(n_tugas):\n",
    "    total = 0\n",
    "    for i in n_tugas:\n",
    "        total += i\n",
    "        \n",
    "    return total \n",
    "\n",
    "def maxValue(n_tugas):\n",
    "    maks = 0\n",
    "    for i in n_tugas:\n",
    "        if i > maks:\n",
    "            maks = i\n",
    "    return maks\n",
    "\n",
    "print(totalNilai(nilai_tugas))\n",
    "print(maxValue(nilai_tugas))\n",
    "    "
   ]
  },
  {
   "cell_type": "code",
   "execution_count": 51,
   "id": "bbccef76",
   "metadata": {},
   "outputs": [
    {
     "data": {
      "text/plain": [
       "24"
      ]
     },
     "execution_count": 51,
     "metadata": {},
     "output_type": "execute_result"
    }
   ],
   "source": [
    "def faktorial(bil):\n",
    "    if bil==1:\n",
    "        return 1\n",
    "    return bil * faktorial(bil-1)\n",
    "\n",
    "faktorial (4)"
   ]
  },
  {
   "cell_type": "code",
   "execution_count": 52,
   "id": "5a7b7b80",
   "metadata": {},
   "outputs": [
    {
     "name": "stdout",
     "output_type": "stream",
     "text": [
      "[{'nama': 'Adi', 'nilai': 90}, {'nama': 'Rudi', 'nilai': 50}, {'nama': 'Ferdi', 'nilai': 100}, {'nama': 'Sambo', 'nilai': 40}]\n"
     ]
    }
   ],
   "source": [
    "nilai_programming = [\n",
    "    {\n",
    "        \"nama\":\"Adi\",\n",
    "        \"nilai\":90\n",
    "    },\n",
    "    {\n",
    "        \"nama\":\"Rudi\",\n",
    "        \"nilai\":50\n",
    "    },\n",
    "    {\n",
    "        \"nama\":\"Ferdi\",\n",
    "        \"nilai\":100\n",
    "    },\n",
    "    {\n",
    "        \"nama\":\"Sambo\",\n",
    "        \"nilai\":40\n",
    "    },\n",
    "]\n",
    "print(nilai_programming)"
   ]
  }
 ],
 "metadata": {
  "kernelspec": {
   "display_name": "Python 3 (ipykernel)",
   "language": "python",
   "name": "python3"
  },
  "language_info": {
   "codemirror_mode": {
    "name": "ipython",
    "version": 3
   },
   "file_extension": ".py",
   "mimetype": "text/x-python",
   "name": "python",
   "nbconvert_exporter": "python",
   "pygments_lexer": "ipython3",
   "version": "3.9.12"
  }
 },
 "nbformat": 4,
 "nbformat_minor": 5
}
